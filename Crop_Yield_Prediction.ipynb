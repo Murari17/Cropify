{
 "cells": [
  {
   "cell_type": "code",
   "execution_count": 1,
   "id": "382a99db-6104-4260-99cf-674744389e71",
   "metadata": {},
   "outputs": [],
   "source": [
    "import pandas as pd\n",
    "import numpy as np\n",
    "from sklearn.ensemble import RandomForestRegressor\n",
    "from sklearn.model_selection import train_test_split\n",
    "from sklearn.preprocessing import OneHotEncoder\n",
    "from sklearn.metrics import r2_score"
   ]
  },
  {
   "cell_type": "code",
   "execution_count": 7,
   "id": "eacdb3b5-96cb-4fdb-a2e7-b4bba49863a8",
   "metadata": {},
   "outputs": [],
   "source": [
    "ds = pd.read_csv(\"./crop_production.csv\")\n",
    "ds = ds.drop(['Crop_Year'], axis=1)\n",
    "ds = ds.drop(['State_Name'], axis=1)"
   ]
  },
  {
   "cell_type": "code",
   "execution_count": 9,
   "id": "c4789ef3-1fe0-4d27-b009-954c504a3515",
   "metadata": {},
   "outputs": [
    {
     "data": {
      "text/html": [
       "<div>\n",
       "<style scoped>\n",
       "    .dataframe tbody tr th:only-of-type {\n",
       "        vertical-align: middle;\n",
       "    }\n",
       "\n",
       "    .dataframe tbody tr th {\n",
       "        vertical-align: top;\n",
       "    }\n",
       "\n",
       "    .dataframe thead th {\n",
       "        text-align: right;\n",
       "    }\n",
       "</style>\n",
       "<table border=\"1\" class=\"dataframe\">\n",
       "  <thead>\n",
       "    <tr style=\"text-align: right;\">\n",
       "      <th></th>\n",
       "      <th>District_Name</th>\n",
       "      <th>Season</th>\n",
       "      <th>Crop</th>\n",
       "      <th>Area</th>\n",
       "      <th>Production</th>\n",
       "    </tr>\n",
       "  </thead>\n",
       "  <tbody>\n",
       "    <tr>\n",
       "      <th>0</th>\n",
       "      <td>NICOBARS</td>\n",
       "      <td>Kharif</td>\n",
       "      <td>Arecanut</td>\n",
       "      <td>1254.0</td>\n",
       "      <td>2000.0</td>\n",
       "    </tr>\n",
       "    <tr>\n",
       "      <th>1</th>\n",
       "      <td>NICOBARS</td>\n",
       "      <td>Kharif</td>\n",
       "      <td>Other Kharif pulses</td>\n",
       "      <td>2.0</td>\n",
       "      <td>1.0</td>\n",
       "    </tr>\n",
       "    <tr>\n",
       "      <th>2</th>\n",
       "      <td>NICOBARS</td>\n",
       "      <td>Kharif</td>\n",
       "      <td>Rice</td>\n",
       "      <td>102.0</td>\n",
       "      <td>321.0</td>\n",
       "    </tr>\n",
       "    <tr>\n",
       "      <th>3</th>\n",
       "      <td>NICOBARS</td>\n",
       "      <td>Whole Year</td>\n",
       "      <td>Banana</td>\n",
       "      <td>176.0</td>\n",
       "      <td>641.0</td>\n",
       "    </tr>\n",
       "    <tr>\n",
       "      <th>4</th>\n",
       "      <td>NICOBARS</td>\n",
       "      <td>Whole Year</td>\n",
       "      <td>Cashewnut</td>\n",
       "      <td>720.0</td>\n",
       "      <td>165.0</td>\n",
       "    </tr>\n",
       "    <tr>\n",
       "      <th>...</th>\n",
       "      <td>...</td>\n",
       "      <td>...</td>\n",
       "      <td>...</td>\n",
       "      <td>...</td>\n",
       "      <td>...</td>\n",
       "    </tr>\n",
       "    <tr>\n",
       "      <th>246086</th>\n",
       "      <td>PURULIA</td>\n",
       "      <td>Summer</td>\n",
       "      <td>Rice</td>\n",
       "      <td>306.0</td>\n",
       "      <td>801.0</td>\n",
       "    </tr>\n",
       "    <tr>\n",
       "      <th>246087</th>\n",
       "      <td>PURULIA</td>\n",
       "      <td>Summer</td>\n",
       "      <td>Sesamum</td>\n",
       "      <td>627.0</td>\n",
       "      <td>463.0</td>\n",
       "    </tr>\n",
       "    <tr>\n",
       "      <th>246088</th>\n",
       "      <td>PURULIA</td>\n",
       "      <td>Whole Year</td>\n",
       "      <td>Sugarcane</td>\n",
       "      <td>324.0</td>\n",
       "      <td>16250.0</td>\n",
       "    </tr>\n",
       "    <tr>\n",
       "      <th>246089</th>\n",
       "      <td>PURULIA</td>\n",
       "      <td>Winter</td>\n",
       "      <td>Rice</td>\n",
       "      <td>279151.0</td>\n",
       "      <td>597899.0</td>\n",
       "    </tr>\n",
       "    <tr>\n",
       "      <th>246090</th>\n",
       "      <td>PURULIA</td>\n",
       "      <td>Winter</td>\n",
       "      <td>Sesamum</td>\n",
       "      <td>175.0</td>\n",
       "      <td>88.0</td>\n",
       "    </tr>\n",
       "  </tbody>\n",
       "</table>\n",
       "<p>246091 rows × 5 columns</p>\n",
       "</div>"
      ],
      "text/plain": [
       "       District_Name       Season                 Crop      Area  Production\n",
       "0           NICOBARS  Kharif                  Arecanut    1254.0      2000.0\n",
       "1           NICOBARS  Kharif       Other Kharif pulses       2.0         1.0\n",
       "2           NICOBARS  Kharif                      Rice     102.0       321.0\n",
       "3           NICOBARS  Whole Year                Banana     176.0       641.0\n",
       "4           NICOBARS  Whole Year             Cashewnut     720.0       165.0\n",
       "...              ...          ...                  ...       ...         ...\n",
       "246086       PURULIA  Summer                      Rice     306.0       801.0\n",
       "246087       PURULIA  Summer                   Sesamum     627.0       463.0\n",
       "246088       PURULIA  Whole Year             Sugarcane     324.0     16250.0\n",
       "246089       PURULIA  Winter                      Rice  279151.0    597899.0\n",
       "246090       PURULIA  Winter                   Sesamum     175.0        88.0\n",
       "\n",
       "[246091 rows x 5 columns]"
      ]
     },
     "execution_count": 9,
     "metadata": {},
     "output_type": "execute_result"
    }
   ],
   "source": [
    "ds"
   ]
  },
  {
   "cell_type": "code",
   "execution_count": 11,
   "id": "deadfc47-4a62-4486-8cde-54d1d18c3092",
   "metadata": {},
   "outputs": [
    {
     "data": {
      "text/plain": [
       "(246091, 5)"
      ]
     },
     "execution_count": 11,
     "metadata": {},
     "output_type": "execute_result"
    }
   ],
   "source": [
    "ds.shape"
   ]
  },
  {
   "cell_type": "code",
   "execution_count": 13,
   "id": "3de2019a-c900-4ad0-9912-112d5098453b",
   "metadata": {},
   "outputs": [
    {
     "data": {
      "text/plain": [
       "Index(['District_Name', 'Season', 'Crop', 'Area', 'Production'], dtype='object')"
      ]
     },
     "execution_count": 13,
     "metadata": {},
     "output_type": "execute_result"
    }
   ],
   "source": [
    "ds.columns"
   ]
  },
  {
   "cell_type": "code",
   "execution_count": 15,
   "id": "f52cb7b4-a976-4968-b295-84907b9b8184",
   "metadata": {},
   "outputs": [
    {
     "data": {
      "text/html": [
       "<div>\n",
       "<style scoped>\n",
       "    .dataframe tbody tr th:only-of-type {\n",
       "        vertical-align: middle;\n",
       "    }\n",
       "\n",
       "    .dataframe tbody tr th {\n",
       "        vertical-align: top;\n",
       "    }\n",
       "\n",
       "    .dataframe thead th {\n",
       "        text-align: right;\n",
       "    }\n",
       "</style>\n",
       "<table border=\"1\" class=\"dataframe\">\n",
       "  <thead>\n",
       "    <tr style=\"text-align: right;\">\n",
       "      <th></th>\n",
       "      <th>Area</th>\n",
       "      <th>Production</th>\n",
       "    </tr>\n",
       "  </thead>\n",
       "  <tbody>\n",
       "    <tr>\n",
       "      <th>count</th>\n",
       "      <td>2.460910e+05</td>\n",
       "      <td>2.423610e+05</td>\n",
       "    </tr>\n",
       "    <tr>\n",
       "      <th>mean</th>\n",
       "      <td>1.200282e+04</td>\n",
       "      <td>5.825034e+05</td>\n",
       "    </tr>\n",
       "    <tr>\n",
       "      <th>std</th>\n",
       "      <td>5.052340e+04</td>\n",
       "      <td>1.706581e+07</td>\n",
       "    </tr>\n",
       "    <tr>\n",
       "      <th>min</th>\n",
       "      <td>4.000000e-02</td>\n",
       "      <td>0.000000e+00</td>\n",
       "    </tr>\n",
       "    <tr>\n",
       "      <th>25%</th>\n",
       "      <td>8.000000e+01</td>\n",
       "      <td>8.800000e+01</td>\n",
       "    </tr>\n",
       "    <tr>\n",
       "      <th>50%</th>\n",
       "      <td>5.820000e+02</td>\n",
       "      <td>7.290000e+02</td>\n",
       "    </tr>\n",
       "    <tr>\n",
       "      <th>75%</th>\n",
       "      <td>4.392000e+03</td>\n",
       "      <td>7.023000e+03</td>\n",
       "    </tr>\n",
       "    <tr>\n",
       "      <th>max</th>\n",
       "      <td>8.580100e+06</td>\n",
       "      <td>1.250800e+09</td>\n",
       "    </tr>\n",
       "  </tbody>\n",
       "</table>\n",
       "</div>"
      ],
      "text/plain": [
       "               Area    Production\n",
       "count  2.460910e+05  2.423610e+05\n",
       "mean   1.200282e+04  5.825034e+05\n",
       "std    5.052340e+04  1.706581e+07\n",
       "min    4.000000e-02  0.000000e+00\n",
       "25%    8.000000e+01  8.800000e+01\n",
       "50%    5.820000e+02  7.290000e+02\n",
       "75%    4.392000e+03  7.023000e+03\n",
       "max    8.580100e+06  1.250800e+09"
      ]
     },
     "execution_count": 15,
     "metadata": {},
     "output_type": "execute_result"
    }
   ],
   "source": [
    "ds.describe()"
   ]
  },
  {
   "cell_type": "code",
   "execution_count": 17,
   "id": "958e9a91-8487-4733-b518-2f16639dcdd9",
   "metadata": {},
   "outputs": [
    {
     "data": {
      "text/plain": [
       "District_Name       0\n",
       "Season              0\n",
       "Crop                0\n",
       "Area                0\n",
       "Production       3730\n",
       "dtype: int64"
      ]
     },
     "execution_count": 17,
     "metadata": {},
     "output_type": "execute_result"
    }
   ],
   "source": [
    "ds.isnull().sum()"
   ]
  },
  {
   "cell_type": "code",
   "execution_count": 19,
   "id": "a2dcfacb-f08d-4d6d-a16d-b06d01ba9143",
   "metadata": {},
   "outputs": [],
   "source": [
    "ds = ds.dropna()"
   ]
  },
  {
   "cell_type": "code",
   "execution_count": 21,
   "id": "bcbfc1ef-1013-413b-bd8e-628e3d3eb376",
   "metadata": {},
   "outputs": [
    {
     "data": {
      "text/html": [
       "<div>\n",
       "<style scoped>\n",
       "    .dataframe tbody tr th:only-of-type {\n",
       "        vertical-align: middle;\n",
       "    }\n",
       "\n",
       "    .dataframe tbody tr th {\n",
       "        vertical-align: top;\n",
       "    }\n",
       "\n",
       "    .dataframe thead th {\n",
       "        text-align: right;\n",
       "    }\n",
       "</style>\n",
       "<table border=\"1\" class=\"dataframe\">\n",
       "  <thead>\n",
       "    <tr style=\"text-align: right;\">\n",
       "      <th></th>\n",
       "      <th>District_Name</th>\n",
       "      <th>Season</th>\n",
       "      <th>Crop</th>\n",
       "      <th>Area</th>\n",
       "      <th>Production</th>\n",
       "    </tr>\n",
       "  </thead>\n",
       "  <tbody>\n",
       "    <tr>\n",
       "      <th>0</th>\n",
       "      <td>NICOBARS</td>\n",
       "      <td>Kharif</td>\n",
       "      <td>Arecanut</td>\n",
       "      <td>1254.0</td>\n",
       "      <td>2000.0</td>\n",
       "    </tr>\n",
       "    <tr>\n",
       "      <th>1</th>\n",
       "      <td>NICOBARS</td>\n",
       "      <td>Kharif</td>\n",
       "      <td>Other Kharif pulses</td>\n",
       "      <td>2.0</td>\n",
       "      <td>1.0</td>\n",
       "    </tr>\n",
       "    <tr>\n",
       "      <th>2</th>\n",
       "      <td>NICOBARS</td>\n",
       "      <td>Kharif</td>\n",
       "      <td>Rice</td>\n",
       "      <td>102.0</td>\n",
       "      <td>321.0</td>\n",
       "    </tr>\n",
       "    <tr>\n",
       "      <th>3</th>\n",
       "      <td>NICOBARS</td>\n",
       "      <td>Whole Year</td>\n",
       "      <td>Banana</td>\n",
       "      <td>176.0</td>\n",
       "      <td>641.0</td>\n",
       "    </tr>\n",
       "    <tr>\n",
       "      <th>4</th>\n",
       "      <td>NICOBARS</td>\n",
       "      <td>Whole Year</td>\n",
       "      <td>Cashewnut</td>\n",
       "      <td>720.0</td>\n",
       "      <td>165.0</td>\n",
       "    </tr>\n",
       "    <tr>\n",
       "      <th>...</th>\n",
       "      <td>...</td>\n",
       "      <td>...</td>\n",
       "      <td>...</td>\n",
       "      <td>...</td>\n",
       "      <td>...</td>\n",
       "    </tr>\n",
       "    <tr>\n",
       "      <th>246086</th>\n",
       "      <td>PURULIA</td>\n",
       "      <td>Summer</td>\n",
       "      <td>Rice</td>\n",
       "      <td>306.0</td>\n",
       "      <td>801.0</td>\n",
       "    </tr>\n",
       "    <tr>\n",
       "      <th>246087</th>\n",
       "      <td>PURULIA</td>\n",
       "      <td>Summer</td>\n",
       "      <td>Sesamum</td>\n",
       "      <td>627.0</td>\n",
       "      <td>463.0</td>\n",
       "    </tr>\n",
       "    <tr>\n",
       "      <th>246088</th>\n",
       "      <td>PURULIA</td>\n",
       "      <td>Whole Year</td>\n",
       "      <td>Sugarcane</td>\n",
       "      <td>324.0</td>\n",
       "      <td>16250.0</td>\n",
       "    </tr>\n",
       "    <tr>\n",
       "      <th>246089</th>\n",
       "      <td>PURULIA</td>\n",
       "      <td>Winter</td>\n",
       "      <td>Rice</td>\n",
       "      <td>279151.0</td>\n",
       "      <td>597899.0</td>\n",
       "    </tr>\n",
       "    <tr>\n",
       "      <th>246090</th>\n",
       "      <td>PURULIA</td>\n",
       "      <td>Winter</td>\n",
       "      <td>Sesamum</td>\n",
       "      <td>175.0</td>\n",
       "      <td>88.0</td>\n",
       "    </tr>\n",
       "  </tbody>\n",
       "</table>\n",
       "<p>242361 rows × 5 columns</p>\n",
       "</div>"
      ],
      "text/plain": [
       "       District_Name       Season                 Crop      Area  Production\n",
       "0           NICOBARS  Kharif                  Arecanut    1254.0      2000.0\n",
       "1           NICOBARS  Kharif       Other Kharif pulses       2.0         1.0\n",
       "2           NICOBARS  Kharif                      Rice     102.0       321.0\n",
       "3           NICOBARS  Whole Year                Banana     176.0       641.0\n",
       "4           NICOBARS  Whole Year             Cashewnut     720.0       165.0\n",
       "...              ...          ...                  ...       ...         ...\n",
       "246086       PURULIA  Summer                      Rice     306.0       801.0\n",
       "246087       PURULIA  Summer                   Sesamum     627.0       463.0\n",
       "246088       PURULIA  Whole Year             Sugarcane     324.0     16250.0\n",
       "246089       PURULIA  Winter                      Rice  279151.0    597899.0\n",
       "246090       PURULIA  Winter                   Sesamum     175.0        88.0\n",
       "\n",
       "[242361 rows x 5 columns]"
      ]
     },
     "execution_count": 21,
     "metadata": {},
     "output_type": "execute_result"
    }
   ],
   "source": [
    "ds"
   ]
  },
  {
   "cell_type": "code",
   "execution_count": 23,
   "id": "012b67a0-1174-494f-8f75-7e1c9734a6c9",
   "metadata": {},
   "outputs": [
    {
     "data": {
      "text/plain": [
       "False"
      ]
     },
     "execution_count": 23,
     "metadata": {},
     "output_type": "execute_result"
    }
   ],
   "source": [
    "ds.isnull().values.any()"
   ]
  },
  {
   "cell_type": "code",
   "execution_count": 25,
   "id": "ef498fb4-0c0b-45d0-ba75-8bae147fa497",
   "metadata": {},
   "outputs": [
    {
     "data": {
      "text/plain": [
       "array(['NICOBARS', 'NORTH AND MIDDLE ANDAMAN', 'SOUTH ANDAMANS',\n",
       "       'ANANTAPUR', 'CHITTOOR', 'EAST GODAVARI', 'GUNTUR', 'KADAPA',\n",
       "       'KRISHNA', 'KURNOOL', 'PRAKASAM', 'SPSR NELLORE', 'SRIKAKULAM',\n",
       "       'VISAKHAPATANAM', 'VIZIANAGARAM', 'WEST GODAVARI', 'ANJAW',\n",
       "       'CHANGLANG', 'DIBANG VALLEY', 'EAST KAMENG', 'EAST SIANG',\n",
       "       'KURUNG KUMEY', 'LOHIT', 'LONGDING', 'LOWER DIBANG VALLEY',\n",
       "       'LOWER SUBANSIRI', 'NAMSAI', 'PAPUM PARE', 'TAWANG', 'TIRAP',\n",
       "       'UPPER SIANG', 'UPPER SUBANSIRI', 'WEST KAMENG', 'WEST SIANG',\n",
       "       'BAKSA', 'BARPETA', 'BONGAIGAON', 'CACHAR', 'CHIRANG', 'DARRANG',\n",
       "       'DHEMAJI', 'DHUBRI', 'DIBRUGARH', 'DIMA HASAO', 'GOALPARA',\n",
       "       'GOLAGHAT', 'HAILAKANDI', 'JORHAT', 'KAMRUP', 'KAMRUP METRO',\n",
       "       'KARBI ANGLONG', 'KARIMGANJ', 'KOKRAJHAR', 'LAKHIMPUR', 'MARIGAON',\n",
       "       'NAGAON', 'NALBARI', 'SIVASAGAR', 'SONITPUR', 'TINSUKIA',\n",
       "       'UDALGURI', 'ARARIA', 'ARWAL', 'AURANGABAD', 'BANKA', 'BEGUSARAI',\n",
       "       'BHAGALPUR', 'BHOJPUR', 'BUXAR', 'DARBHANGA', 'GAYA', 'GOPALGANJ',\n",
       "       'JAMUI', 'JEHANABAD', 'KAIMUR (BHABUA)', 'KATIHAR', 'KHAGARIA',\n",
       "       'KISHANGANJ', 'LAKHISARAI', 'MADHEPURA', 'MADHUBANI', 'MUNGER',\n",
       "       'MUZAFFARPUR', 'NALANDA', 'NAWADA', 'PASHCHIM CHAMPARAN', 'PATNA',\n",
       "       'PURBI CHAMPARAN', 'PURNIA', 'ROHTAS', 'SAHARSA', 'SAMASTIPUR',\n",
       "       'SARAN', 'SHEIKHPURA', 'SHEOHAR', 'SITAMARHI', 'SIWAN', 'SUPAUL',\n",
       "       'VAISHALI', 'CHANDIGARH', 'BALOD', 'BALODA BAZAR', 'BALRAMPUR',\n",
       "       'BASTAR', 'BEMETARA', 'BIJAPUR', 'BILASPUR', 'DANTEWADA',\n",
       "       'DHAMTARI', 'DURG', 'GARIYABAND', 'JANJGIR-CHAMPA', 'JASHPUR',\n",
       "       'KABIRDHAM', 'KANKER', 'KONDAGAON', 'KORBA', 'KOREA', 'MAHASAMUND',\n",
       "       'MUNGELI', 'NARAYANPUR', 'RAIGARH', 'RAIPUR', 'RAJNANDGAON',\n",
       "       'SUKMA', 'SURAJPUR', 'SURGUJA', 'DADRA AND NAGAR HAVELI',\n",
       "       'NORTH GOA', 'SOUTH GOA', 'AHMADABAD', 'AMRELI', 'ANAND',\n",
       "       'BANAS KANTHA', 'BHARUCH', 'BHAVNAGAR', 'DANG', 'DOHAD',\n",
       "       'GANDHINAGAR', 'JAMNAGAR', 'JUNAGADH', 'KACHCHH', 'KHEDA',\n",
       "       'MAHESANA', 'NARMADA', 'NAVSARI', 'PANCH MAHALS', 'PATAN',\n",
       "       'PORBANDAR', 'RAJKOT', 'SABAR KANTHA', 'SURAT', 'SURENDRANAGAR',\n",
       "       'TAPI', 'VADODARA', 'VALSAD', 'AMBALA', 'BHIWANI', 'FARIDABAD',\n",
       "       'FATEHABAD', 'GURGAON', 'HISAR', 'JHAJJAR', 'JIND', 'KAITHAL',\n",
       "       'KARNAL', 'KURUKSHETRA', 'MAHENDRAGARH', 'MEWAT', 'PALWAL',\n",
       "       'PANCHKULA', 'PANIPAT', 'REWARI', 'ROHTAK', 'SIRSA', 'SONIPAT',\n",
       "       'YAMUNANAGAR', 'CHAMBA', 'HAMIRPUR', 'KANGRA', 'KINNAUR', 'KULLU',\n",
       "       'LAHUL AND SPITI', 'MANDI', 'SHIMLA', 'SIRMAUR', 'SOLAN', 'UNA',\n",
       "       'ANANTNAG', 'BADGAM', 'BANDIPORA', 'BARAMULLA', 'DODA',\n",
       "       'GANDERBAL', 'JAMMU', 'KARGIL', 'KATHUA', 'KISHTWAR', 'KULGAM',\n",
       "       'KUPWARA', 'LEH LADAKH', 'POONCH', 'PULWAMA', 'RAJAURI', 'RAMBAN',\n",
       "       'REASI', 'SAMBA', 'SHOPIAN', 'SRINAGAR', 'UDHAMPUR', 'BOKARO',\n",
       "       'CHATRA', 'DEOGHAR', 'DHANBAD', 'DUMKA', 'EAST SINGHBUM', 'GARHWA',\n",
       "       'GIRIDIH', 'GODDA', 'GUMLA', 'HAZARIBAGH', 'JAMTARA', 'KHUNTI',\n",
       "       'KODERMA', 'LATEHAR', 'LOHARDAGA', 'PAKUR', 'PALAMU', 'RAMGARH',\n",
       "       'RANCHI', 'SAHEBGANJ', 'SARAIKELA KHARSAWAN', 'SIMDEGA',\n",
       "       'WEST SINGHBHUM', 'BAGALKOT', 'BANGALORE RURAL', 'BELGAUM',\n",
       "       'BELLARY', 'BENGALURU URBAN', 'BIDAR', 'CHAMARAJANAGAR',\n",
       "       'CHIKBALLAPUR', 'CHIKMAGALUR', 'CHITRADURGA', 'DAKSHIN KANNAD',\n",
       "       'DAVANGERE', 'DHARWAD', 'GADAG', 'GULBARGA', 'HASSAN', 'HAVERI',\n",
       "       'KODAGU', 'KOLAR', 'KOPPAL', 'MANDYA', 'MYSORE', 'RAICHUR',\n",
       "       'RAMANAGARA', 'SHIMOGA', 'TUMKUR', 'UDUPI', 'UTTAR KANNAD',\n",
       "       'YADGIR', 'ALAPPUZHA', 'ERNAKULAM', 'IDUKKI', 'KANNUR',\n",
       "       'KASARAGOD', 'KOLLAM', 'KOTTAYAM', 'KOZHIKODE', 'MALAPPURAM',\n",
       "       'PALAKKAD', 'PATHANAMTHITTA', 'THIRUVANANTHAPURAM', 'THRISSUR',\n",
       "       'WAYANAD', 'AGAR MALWA', 'ALIRAJPUR', 'ANUPPUR', 'ASHOKNAGAR',\n",
       "       'BALAGHAT', 'BARWANI', 'BETUL', 'BHIND', 'BHOPAL', 'BURHANPUR',\n",
       "       'CHHATARPUR', 'CHHINDWARA', 'DAMOH', 'DATIA', 'DEWAS', 'DHAR',\n",
       "       'DINDORI', 'GUNA', 'GWALIOR', 'HARDA', 'HOSHANGABAD', 'INDORE',\n",
       "       'JABALPUR', 'JHABUA', 'KATNI', 'KHANDWA', 'KHARGONE', 'MANDLA',\n",
       "       'MANDSAUR', 'MORENA', 'NARSINGHPUR', 'NEEMUCH', 'PANNA', 'RAISEN',\n",
       "       'RAJGARH', 'RATLAM', 'REWA', 'SAGAR', 'SATNA', 'SEHORE', 'SEONI',\n",
       "       'SHAHDOL', 'SHAJAPUR', 'SHEOPUR', 'SHIVPURI', 'SIDHI', 'SINGRAULI',\n",
       "       'TIKAMGARH', 'UJJAIN', 'UMARIA', 'VIDISHA', 'AHMEDNAGAR', 'AKOLA',\n",
       "       'AMRAVATI', 'BEED', 'BHANDARA', 'BULDHANA', 'CHANDRAPUR', 'DHULE',\n",
       "       'GADCHIROLI', 'GONDIA', 'HINGOLI', 'JALGAON', 'JALNA', 'KOLHAPUR',\n",
       "       'LATUR', 'MUMBAI', 'NAGPUR', 'NANDED', 'NANDURBAR', 'NASHIK',\n",
       "       'OSMANABAD', 'PALGHAR', 'PARBHANI', 'PUNE', 'RAIGAD', 'RATNAGIRI',\n",
       "       'SANGLI', 'SATARA', 'SINDHUDURG', 'SOLAPUR', 'THANE', 'WARDHA',\n",
       "       'WASHIM', 'YAVATMAL', 'BISHNUPUR', 'CHANDEL', 'CHURACHANDPUR',\n",
       "       'IMPHAL EAST', 'IMPHAL WEST', 'SENAPATI', 'TAMENGLONG', 'THOUBAL',\n",
       "       'UKHRUL', 'EAST GARO HILLS', 'EAST JAINTIA HILLS',\n",
       "       'EAST KHASI HILLS', 'NORTH GARO HILLS', 'RI BHOI',\n",
       "       'SOUTH GARO HILLS', 'SOUTH WEST GARO HILLS',\n",
       "       'SOUTH WEST KHASI HILLS', 'WEST GARO HILLS', 'WEST JAINTIA HILLS',\n",
       "       'WEST KHASI HILLS', 'AIZAWL', 'CHAMPHAI', 'KOLASIB', 'LAWNGTLAI',\n",
       "       'LUNGLEI', 'MAMIT', 'SAIHA', 'SERCHHIP', 'DIMAPUR', 'KIPHIRE',\n",
       "       'KOHIMA', 'LONGLENG', 'MOKOKCHUNG', 'MON', 'PEREN', 'PHEK',\n",
       "       'TUENSANG', 'WOKHA', 'ZUNHEBOTO', 'ANUGUL', 'BALANGIR',\n",
       "       'BALESHWAR', 'BARGARH', 'BHADRAK', 'BOUDH', 'CUTTACK', 'DEOGARH',\n",
       "       'DHENKANAL', 'GAJAPATI', 'GANJAM', 'JAGATSINGHAPUR', 'JAJAPUR',\n",
       "       'JHARSUGUDA', 'KALAHANDI', 'KANDHAMAL', 'KENDRAPARA', 'KENDUJHAR',\n",
       "       'KHORDHA', 'KORAPUT', 'MALKANGIRI', 'MAYURBHANJ', 'NABARANGPUR',\n",
       "       'NAYAGARH', 'NUAPADA', 'PURI', 'RAYAGADA', 'SAMBALPUR', 'SONEPUR',\n",
       "       'SUNDARGARH', 'KARAIKAL', 'MAHE', 'PONDICHERRY', 'YANAM',\n",
       "       'AMRITSAR', 'BARNALA', 'BATHINDA', 'FARIDKOT', 'FATEHGARH SAHIB',\n",
       "       'FAZILKA', 'FIROZEPUR', 'GURDASPUR', 'HOSHIARPUR', 'JALANDHAR',\n",
       "       'KAPURTHALA', 'LUDHIANA', 'MANSA', 'MOGA', 'MUKTSAR', 'NAWANSHAHR',\n",
       "       'PATHANKOT', 'PATIALA', 'RUPNAGAR', 'S.A.S NAGAR', 'SANGRUR',\n",
       "       'TARN TARAN', 'AJMER', 'ALWAR', 'BANSWARA', 'BARAN', 'BARMER',\n",
       "       'BHARATPUR', 'BHILWARA', 'BIKANER', 'BUNDI', 'CHITTORGARH',\n",
       "       'CHURU', 'DAUSA', 'DHOLPUR', 'DUNGARPUR', 'GANGANAGAR',\n",
       "       'HANUMANGARH', 'JAIPUR', 'JAISALMER', 'JALORE', 'JHALAWAR',\n",
       "       'JHUNJHUNU', 'JODHPUR', 'KARAULI', 'KOTA', 'NAGAUR', 'PALI',\n",
       "       'PRATAPGARH', 'RAJSAMAND', 'SAWAI MADHOPUR', 'SIKAR', 'SIROHI',\n",
       "       'TONK', 'UDAIPUR', 'EAST DISTRICT', 'NORTH DISTRICT',\n",
       "       'SOUTH DISTRICT', 'WEST DISTRICT', 'ARIYALUR', 'COIMBATORE',\n",
       "       'CUDDALORE', 'DHARMAPURI', 'DINDIGUL', 'ERODE', 'KANCHIPURAM',\n",
       "       'KANNIYAKUMARI', 'KARUR', 'KRISHNAGIRI', 'MADURAI', 'NAGAPATTINAM',\n",
       "       'NAMAKKAL', 'PERAMBALUR', 'PUDUKKOTTAI', 'RAMANATHAPURAM', 'SALEM',\n",
       "       'SIVAGANGA', 'THANJAVUR', 'THE NILGIRIS', 'THENI', 'THIRUVALLUR',\n",
       "       'THIRUVARUR', 'TIRUCHIRAPPALLI', 'TIRUNELVELI', 'TIRUPPUR',\n",
       "       'TIRUVANNAMALAI', 'TUTICORIN', 'VELLORE', 'VILLUPURAM',\n",
       "       'VIRUDHUNAGAR', 'ADILABAD', 'HYDERABAD', 'KARIMNAGAR', 'KHAMMAM',\n",
       "       'MAHBUBNAGAR', 'MEDAK', 'NALGONDA', 'NIZAMABAD', 'RANGAREDDI',\n",
       "       'WARANGAL', 'DHALAI', 'GOMATI', 'KHOWAI', 'NORTH TRIPURA',\n",
       "       'SEPAHIJALA', 'SOUTH TRIPURA', 'UNAKOTI', 'WEST TRIPURA', 'AGRA',\n",
       "       'ALIGARH', 'ALLAHABAD', 'AMBEDKAR NAGAR', 'AMETHI', 'AMROHA',\n",
       "       'AURAIYA', 'AZAMGARH', 'BAGHPAT', 'BAHRAICH', 'BALLIA', 'BANDA',\n",
       "       'BARABANKI', 'BAREILLY', 'BASTI', 'BIJNOR', 'BUDAUN',\n",
       "       'BULANDSHAHR', 'CHANDAULI', 'CHITRAKOOT', 'DEORIA', 'ETAH',\n",
       "       'ETAWAH', 'FAIZABAD', 'FARRUKHABAD', 'FATEHPUR', 'FIROZABAD',\n",
       "       'GAUTAM BUDDHA NAGAR', 'GHAZIABAD', 'GHAZIPUR', 'GONDA',\n",
       "       'GORAKHPUR', 'HAPUR', 'HARDOI', 'HATHRAS', 'JALAUN', 'JAUNPUR',\n",
       "       'JHANSI', 'KANNAUJ', 'KANPUR DEHAT', 'KANPUR NAGAR', 'KASGANJ',\n",
       "       'KAUSHAMBI', 'KHERI', 'KUSHI NAGAR', 'LALITPUR', 'LUCKNOW',\n",
       "       'MAHARAJGANJ', 'MAHOBA', 'MAINPURI', 'MATHURA', 'MAU', 'MEERUT',\n",
       "       'MIRZAPUR', 'MORADABAD', 'MUZAFFARNAGAR', 'PILIBHIT', 'RAE BARELI',\n",
       "       'RAMPUR', 'SAHARANPUR', 'SAMBHAL', 'SANT KABEER NAGAR',\n",
       "       'SANT RAVIDAS NAGAR', 'SHAHJAHANPUR', 'SHAMLI', 'SHRAVASTI',\n",
       "       'SIDDHARTH NAGAR', 'SITAPUR', 'SONBHADRA', 'SULTANPUR', 'UNNAO',\n",
       "       'VARANASI', 'ALMORA', 'BAGESHWAR', 'CHAMOLI', 'CHAMPAWAT',\n",
       "       'DEHRADUN', 'HARIDWAR', 'NAINITAL', 'PAURI GARHWAL', 'PITHORAGARH',\n",
       "       'RUDRA PRAYAG', 'TEHRI GARHWAL', 'UDAM SINGH NAGAR', 'UTTAR KASHI',\n",
       "       '24 PARAGANAS NORTH', '24 PARAGANAS SOUTH', 'BANKURA', 'BARDHAMAN',\n",
       "       'BIRBHUM', 'COOCHBEHAR', 'DARJEELING', 'DINAJPUR DAKSHIN',\n",
       "       'DINAJPUR UTTAR', 'HOOGHLY', 'HOWRAH', 'JALPAIGURI', 'MALDAH',\n",
       "       'MEDINIPUR EAST', 'MEDINIPUR WEST', 'MURSHIDABAD', 'NADIA',\n",
       "       'PURULIA'], dtype=object)"
      ]
     },
     "execution_count": 25,
     "metadata": {},
     "output_type": "execute_result"
    }
   ],
   "source": [
    "ds.District_Name.unique()"
   ]
  },
  {
   "cell_type": "code",
   "execution_count": 27,
   "id": "04b60e42-518e-4fa8-b7fe-c5ce391df415",
   "metadata": {},
   "outputs": [
    {
     "data": {
      "text/plain": [
       "array(['Kharif     ', 'Whole Year ', 'Autumn     ', 'Rabi       ',\n",
       "       'Summer     ', 'Winter     '], dtype=object)"
      ]
     },
     "execution_count": 27,
     "metadata": {},
     "output_type": "execute_result"
    }
   ],
   "source": [
    "ds.Season.unique()"
   ]
  },
  {
   "cell_type": "code",
   "execution_count": 29,
   "id": "c377cafd-19d4-4d77-8837-82fba56fed37",
   "metadata": {},
   "outputs": [
    {
     "data": {
      "text/plain": [
       "array(['Arecanut', 'Other Kharif pulses', 'Rice', 'Banana', 'Cashewnut',\n",
       "       'Coconut ', 'Dry ginger', 'Sugarcane', 'Sweet potato', 'Tapioca',\n",
       "       'Black pepper', 'Dry chillies', 'other oilseeds', 'Turmeric',\n",
       "       'Maize', 'Moong(Green Gram)', 'Urad', 'Arhar/Tur', 'Groundnut',\n",
       "       'Sunflower', 'Bajra', 'Castor seed', 'Cotton(lint)', 'Horse-gram',\n",
       "       'Jowar', 'Korra', 'Ragi', 'Tobacco', 'Gram', 'Wheat', 'Masoor',\n",
       "       'Sesamum', 'Linseed', 'Safflower', 'Onion', 'other misc. pulses',\n",
       "       'Samai', 'Small millets', 'Coriander', 'Potato',\n",
       "       'Other  Rabi pulses', 'Soyabean', 'Beans & Mutter(Vegetable)',\n",
       "       'Bhindi', 'Brinjal', 'Citrus Fruit', 'Cucumber', 'Grapes', 'Mango',\n",
       "       'Orange', 'other fibres', 'Other Fresh Fruits', 'Other Vegetables',\n",
       "       'Papaya', 'Pome Fruit', 'Tomato', 'Mesta', 'Cowpea(Lobia)',\n",
       "       'Lemon', 'Pome Granet', 'Sapota', 'Cabbage', 'Rapeseed &Mustard',\n",
       "       'Peas  (vegetable)', 'Niger seed', 'Bottle Gourd', 'Varagu',\n",
       "       'Garlic', 'Ginger', 'Oilseeds total', 'Pulses total', 'Jute',\n",
       "       'Peas & beans (Pulses)', 'Blackgram', 'Paddy', 'Pineapple',\n",
       "       'Barley', 'Sannhamp', 'Khesari', 'Guar seed', 'Moth',\n",
       "       'Other Cereals & Millets', 'Cond-spcs other', 'Turnip', 'Carrot',\n",
       "       'Redish', 'Arcanut (Processed)', 'Atcanut (Raw)',\n",
       "       'Cashewnut Processed', 'Cashewnut Raw', 'Cardamom', 'Rubber',\n",
       "       'Bitter Gourd', 'Drum Stick', 'Jack Fruit', 'Snak Guard', 'Tea',\n",
       "       'Coffee', 'Cauliflower', 'Other Citrus Fruit', 'Water Melon',\n",
       "       'Total foodgrain', 'Kapas', 'Colocosia', 'Lentil', 'Bean',\n",
       "       'Jobster', 'Perilla', 'Rajmash Kholar', 'Ricebean (nagadal)',\n",
       "       'Ash Gourd', 'Beet Root', 'Lab-Lab', 'Ribed Guard', 'Yam',\n",
       "       'Pump Kin', 'Apple', 'Peach', 'Pear', 'Plums', 'Litchi', 'Ber',\n",
       "       'Other Dry Fruit', 'Jute & mesta'], dtype=object)"
      ]
     },
     "execution_count": 29,
     "metadata": {},
     "output_type": "execute_result"
    }
   ],
   "source": [
    "ds.Crop.unique()"
   ]
  },
  {
   "cell_type": "code",
   "execution_count": 31,
   "id": "1ad92904-f4d2-4a2d-89b3-6ef2468f7afb",
   "metadata": {},
   "outputs": [],
   "source": [
    "X = ds.drop(['Production'], axis=1)\n",
    "Y = ds['Production']"
   ]
  },
  {
   "cell_type": "code",
   "execution_count": 33,
   "id": "cc9f242f-ed96-45d6-82d5-e77367464cdf",
   "metadata": {},
   "outputs": [],
   "source": [
    "x_train, x_test, y_train, y_test = train_test_split(X, Y, test_size=0.25, random_state=0)"
   ]
  },
  {
   "cell_type": "code",
   "execution_count": 37,
   "id": "541cf9dc-89ab-4756-bbaa-a95a7b74106d",
   "metadata": {},
   "outputs": [],
   "source": [
    "categorical_cols = ['District_Name', 'Season', 'Crop']"
   ]
  },
  {
   "cell_type": "code",
   "execution_count": 39,
   "id": "5acaf097-9189-4af0-a8b5-84db685d6197",
   "metadata": {},
   "outputs": [],
   "source": [
    "ohe = OneHotEncoder(handle_unknown='ignore')\n",
    "ohe.fit(x_train[categorical_cols])\n",
    "\n",
    "x_train_categorical = ohe.transform(x_train[categorical_cols])\n",
    "x_test_categorical = ohe.transform(x_test[categorical_cols])\n",
    "\n",
    "x_train_final = np.hstack((x_train_categorical.toarray(), x_train.drop(categorical_cols, axis=1)))\n",
    "x_test_final = np.hstack((x_test_categorical.toarray(), x_test.drop(categorical_cols, axis=1)))"
   ]
  },
  {
   "cell_type": "code",
   "execution_count": 41,
   "id": "4c9fb430-b55c-4e95-bb05-6f447326824f",
   "metadata": {},
   "outputs": [
    {
     "data": {
      "text/html": [
       "<style>#sk-container-id-1 {color: black;background-color: white;}#sk-container-id-1 pre{padding: 0;}#sk-container-id-1 div.sk-toggleable {background-color: white;}#sk-container-id-1 label.sk-toggleable__label {cursor: pointer;display: block;width: 100%;margin-bottom: 0;padding: 0.3em;box-sizing: border-box;text-align: center;}#sk-container-id-1 label.sk-toggleable__label-arrow:before {content: \"▸\";float: left;margin-right: 0.25em;color: #696969;}#sk-container-id-1 label.sk-toggleable__label-arrow:hover:before {color: black;}#sk-container-id-1 div.sk-estimator:hover label.sk-toggleable__label-arrow:before {color: black;}#sk-container-id-1 div.sk-toggleable__content {max-height: 0;max-width: 0;overflow: hidden;text-align: left;background-color: #f0f8ff;}#sk-container-id-1 div.sk-toggleable__content pre {margin: 0.2em;color: black;border-radius: 0.25em;background-color: #f0f8ff;}#sk-container-id-1 input.sk-toggleable__control:checked~div.sk-toggleable__content {max-height: 200px;max-width: 100%;overflow: auto;}#sk-container-id-1 input.sk-toggleable__control:checked~label.sk-toggleable__label-arrow:before {content: \"▾\";}#sk-container-id-1 div.sk-estimator input.sk-toggleable__control:checked~label.sk-toggleable__label {background-color: #d4ebff;}#sk-container-id-1 div.sk-label input.sk-toggleable__control:checked~label.sk-toggleable__label {background-color: #d4ebff;}#sk-container-id-1 input.sk-hidden--visually {border: 0;clip: rect(1px 1px 1px 1px);clip: rect(1px, 1px, 1px, 1px);height: 1px;margin: -1px;overflow: hidden;padding: 0;position: absolute;width: 1px;}#sk-container-id-1 div.sk-estimator {font-family: monospace;background-color: #f0f8ff;border: 1px dotted black;border-radius: 0.25em;box-sizing: border-box;margin-bottom: 0.5em;}#sk-container-id-1 div.sk-estimator:hover {background-color: #d4ebff;}#sk-container-id-1 div.sk-parallel-item::after {content: \"\";width: 100%;border-bottom: 1px solid gray;flex-grow: 1;}#sk-container-id-1 div.sk-label:hover label.sk-toggleable__label {background-color: #d4ebff;}#sk-container-id-1 div.sk-serial::before {content: \"\";position: absolute;border-left: 1px solid gray;box-sizing: border-box;top: 0;bottom: 0;left: 50%;z-index: 0;}#sk-container-id-1 div.sk-serial {display: flex;flex-direction: column;align-items: center;background-color: white;padding-right: 0.2em;padding-left: 0.2em;position: relative;}#sk-container-id-1 div.sk-item {position: relative;z-index: 1;}#sk-container-id-1 div.sk-parallel {display: flex;align-items: stretch;justify-content: center;background-color: white;position: relative;}#sk-container-id-1 div.sk-item::before, #sk-container-id-1 div.sk-parallel-item::before {content: \"\";position: absolute;border-left: 1px solid gray;box-sizing: border-box;top: 0;bottom: 0;left: 50%;z-index: -1;}#sk-container-id-1 div.sk-parallel-item {display: flex;flex-direction: column;z-index: 1;position: relative;background-color: white;}#sk-container-id-1 div.sk-parallel-item:first-child::after {align-self: flex-end;width: 50%;}#sk-container-id-1 div.sk-parallel-item:last-child::after {align-self: flex-start;width: 50%;}#sk-container-id-1 div.sk-parallel-item:only-child::after {width: 0;}#sk-container-id-1 div.sk-dashed-wrapped {border: 1px dashed gray;margin: 0 0.4em 0.5em 0.4em;box-sizing: border-box;padding-bottom: 0.4em;background-color: white;}#sk-container-id-1 div.sk-label label {font-family: monospace;font-weight: bold;display: inline-block;line-height: 1.2em;}#sk-container-id-1 div.sk-label-container {text-align: center;}#sk-container-id-1 div.sk-container {/* jupyter's `normalize.less` sets `[hidden] { display: none; }` but bootstrap.min.css set `[hidden] { display: none !important; }` so we also need the `!important` here to be able to override the default hidden behavior on the sphinx rendered scikit-learn.org. See: https://github.com/scikit-learn/scikit-learn/issues/21755 */display: inline-block !important;position: relative;}#sk-container-id-1 div.sk-text-repr-fallback {display: none;}</style><div id=\"sk-container-id-1\" class=\"sk-top-container\"><div class=\"sk-text-repr-fallback\"><pre>RandomForestRegressor(n_estimators=15, random_state=0)</pre><b>In a Jupyter environment, please rerun this cell to show the HTML representation or trust the notebook. <br />On GitHub, the HTML representation is unable to render, please try loading this page with nbviewer.org.</b></div><div class=\"sk-container\" hidden><div class=\"sk-item\"><div class=\"sk-estimator sk-toggleable\"><input class=\"sk-toggleable__control sk-hidden--visually\" id=\"sk-estimator-id-1\" type=\"checkbox\" checked><label for=\"sk-estimator-id-1\" class=\"sk-toggleable__label sk-toggleable__label-arrow\">RandomForestRegressor</label><div class=\"sk-toggleable__content\"><pre>RandomForestRegressor(n_estimators=15, random_state=0)</pre></div></div></div></div></div>"
      ],
      "text/plain": [
       "RandomForestRegressor(n_estimators=15, random_state=0)"
      ]
     },
     "execution_count": 41,
     "metadata": {},
     "output_type": "execute_result"
    }
   ],
   "source": [
    "model = RandomForestRegressor(n_estimators=15, random_state=0)\n",
    "model.fit(x_train_final, y_train)"
   ]
  },
  {
   "cell_type": "code",
   "execution_count": 42,
   "id": "7239cfdc-c597-456f-96e8-2151bb190fb2",
   "metadata": {},
   "outputs": [
    {
     "name": "stdout",
     "output_type": "stream",
     "text": [
      "R2 score:  0.9057992052789764\n"
     ]
    }
   ],
   "source": [
    "RF_predict = model.predict(x_test_final)\n",
    "r = r2_score(y_test, RF_predict)\n",
    "print(\"R2 score: \", r)"
   ]
  },
  {
   "cell_type": "code",
   "execution_count": 48,
   "id": "8ad71dbc-94e4-42e6-a158-c6048ae8ef2f",
   "metadata": {},
   "outputs": [
    {
     "name": "stdout",
     "output_type": "stream",
     "text": [
      "Prediction:  [323.06666667]\n"
     ]
    }
   ],
   "source": [
    "user_input = pd.DataFrame([['BAGALKOT', 'Kharif', 'Rice', 197]], columns=['District_Name', 'Season', 'Crop', 'Area'])\n",
    "user_input_categorical = ohe.transform(user_input[categorical_cols])\n",
    "user_input_final = np.hstack((user_input_categorical.toarray(), user_input.drop(categorical_cols, axis=1)))\n",
    "prediction = model.predict(user_input_final)\n",
    "print(\"Prediction: \", prediction)"
   ]
  },
  {
   "cell_type": "code",
   "execution_count": 50,
   "id": "45feb0bb-b2d4-4d5b-84ee-135f1b323fb0",
   "metadata": {},
   "outputs": [],
   "source": [
    "import pickle\n",
    "with open('./YieldPreModel.pkl', 'wb') as f:\n",
    "    pickle.dump(model, f)"
   ]
  },
  {
   "cell_type": "code",
   "execution_count": 52,
   "id": "a0bbb784-777c-42b3-93f4-c76517d3aedb",
   "metadata": {},
   "outputs": [],
   "source": [
    "import pickle\n",
    "with open('./YieldPreModel.pkl', 'rb') as f:\n",
    "    loaded_model = pickle.load(f)"
   ]
  },
  {
   "cell_type": "code",
   "execution_count": 54,
   "id": "888dc90e-2e4b-49d6-a597-b72d4a6a63ae",
   "metadata": {},
   "outputs": [
    {
     "name": "stdout",
     "output_type": "stream",
     "text": [
      "Prediction:  [323.06666667]\n"
     ]
    }
   ],
   "source": [
    "ohe = OneHotEncoder(handle_unknown='ignore')\n",
    "ohe.fit(x_train[categorical_cols])\n",
    "user_input = pd.DataFrame([['BAGALKOT', 'Kharif', 'Rice', 197]], columns=['District_Name', 'Season', 'Crop', 'Area'])\n",
    "user_input_categorical = ohe.transform(user_input[categorical_cols])\n",
    "user_input_final = np.hstack((user_input_categorical.toarray(), user_input.drop(categorical_cols, axis=1)))\n",
    "prediction = loaded_model.predict(user_input_final)\n",
    "print(\"Prediction: \", prediction)"
   ]
  }
 ],
 "metadata": {
  "kernelspec": {
   "display_name": "Python 3 (ipykernel)",
   "language": "python",
   "name": "python3"
  },
  "language_info": {
   "codemirror_mode": {
    "name": "ipython",
    "version": 3
   },
   "file_extension": ".py",
   "mimetype": "text/x-python",
   "name": "python",
   "nbconvert_exporter": "python",
   "pygments_lexer": "ipython3",
   "version": "3.11.7"
  }
 },
 "nbformat": 4,
 "nbformat_minor": 5
}
